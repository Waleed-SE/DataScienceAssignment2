{
 "cells": [
  {
   "cell_type": "code",
   "id": "initial_id",
   "metadata": {
    "collapsed": true,
    "ExecuteTime": {
     "end_time": "2025-03-02T15:15:57.987284Z",
     "start_time": "2025-03-02T15:15:44.874052Z"
    }
   },
   "source": [
    "import os\n",
    "import pandas as pd\n",
    "\n",
    "def merge_files(raw_folder, output_file):\n",
    "    electricity_folder = os.path.join(raw_folder, \"electricity_raw_data\")\n",
    "    weather_folder = os.path.join(raw_folder, \"weather_raw_data\")\n",
    "\n",
    "    electricity_files = [os.path.join(electricity_folder, f) for f in os.listdir(electricity_folder) if f.endswith('.json')]\n",
    "    weather_files = [os.path.join(weather_folder, f) for f in os.listdir(weather_folder) if f.endswith('.csv')]\n",
    "\n",
    "    electricity_data = []\n",
    "    weather_data = []\n",
    "\n",
    "    for file in electricity_files:\n",
    "        with open(file, 'r') as f:\n",
    "            data = pd.json_normalize(pd.read_json(f)['response']['data'])\n",
    "            data['datetime'] = pd.to_datetime(data['period'], format='%Y-%m-%dT%H')\n",
    "            data.drop(columns=['period'], inplace=True)\n",
    "            electricity_data.append(data)\n",
    "\n",
    "    for file in weather_files:\n",
    "        data = pd.read_csv(file)\n",
    "        data.rename(columns={'date': 'datetime'}, inplace=True)\n",
    "        data['datetime'] = pd.to_datetime(data['datetime'], errors='coerce')\n",
    "        weather_data.append(data)\n",
    "\n",
    "    if electricity_data and weather_data:\n",
    "        electricity_df = pd.concat(electricity_data, ignore_index=True)\n",
    "        weather_df = pd.concat(weather_data, ignore_index=True)\n",
    "\n",
    "        if weather_df['datetime'].dtype == 'object':\n",
    "            weather_df['datetime'] = pd.to_datetime(weather_df['datetime'], errors='coerce')\n",
    "\n",
    "        weather_df['datetime'] = weather_df['datetime'].dropna().dt.tz_localize(None)\n",
    "\n",
    "        merged_df = pd.merge(electricity_df, weather_df, on='datetime', how='inner')\n",
    "        merged_df.to_csv(output_file, index=False)\n",
    "        print(f\"Merged file saved at: {output_file}\")\n",
    "    else:\n",
    "        print(\"No valid files found in raw folder.\")\n",
    "\n",
    "# Example usage\n",
    "raw_folder_path = \"raw\"  # Update this to the actual path\n",
    "output_file_path = \"merged_data.csv\"\n",
    "merge_files(raw_folder_path, output_file_path)"
   ],
   "outputs": [
    {
     "name": "stdout",
     "output_type": "stream",
     "text": [
      "Merged file saved at: merged_data.csv\n"
     ]
    }
   ],
   "execution_count": 7
  },
  {
   "metadata": {},
   "cell_type": "code",
   "outputs": [],
   "execution_count": null,
   "source": "",
   "id": "5b35cbfa4e9512c2"
  }
 ],
 "metadata": {
  "kernelspec": {
   "display_name": "Python 3",
   "language": "python",
   "name": "python3"
  },
  "language_info": {
   "codemirror_mode": {
    "name": "ipython",
    "version": 2
   },
   "file_extension": ".py",
   "mimetype": "text/x-python",
   "name": "python",
   "nbconvert_exporter": "python",
   "pygments_lexer": "ipython2",
   "version": "2.7.6"
  }
 },
 "nbformat": 4,
 "nbformat_minor": 5
}
